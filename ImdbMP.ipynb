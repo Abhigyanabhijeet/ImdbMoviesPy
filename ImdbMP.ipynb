{
 "cells": [
  {
   "cell_type": "code",
   "execution_count": 3,
   "metadata": {},
   "outputs": [],
   "source": [
    "# Import the imdb package.\n",
    "import imdb as imdb1\n",
    "\n",
    "from imdbpie import Imdb\n",
    "imdb = Imdb()\n",
    "\n",
    "# Create the object that will be used to access the IMDb's database.\n",
    "ia = imdb1.IMDb() # by default access the web.\n",
    "\n"
   ]
  },
  {
   "cell_type": "code",
   "execution_count": null,
   "metadata": {},
   "outputs": [],
   "source": [
    "# Search for a movie (get a list of Movie objects).\n",
    "s_result = ia.search_movie('The.Martian')\n",
    "\n",
    "# Print the long imdb canonical title and movieID of the results.\n",
    "for item in s_result:\n",
    "   print(item['long imdb canonical title'], item.movieID)\n",
    "#select title\n",
    "select=input()"
   ]
  },
  {
   "cell_type": "code",
   "execution_count": 90,
   "metadata": {},
   "outputs": [],
   "source": [
    "#title number (index 0)\n",
    "tt=\"tt\"+str(s_result[int(select)].movieID)"
   ]
  },
  {
   "cell_type": "code",
   "execution_count": 98,
   "metadata": {},
   "outputs": [
    {
     "name": "stdout",
     "output_type": "stream",
     "text": [
      "Rating 8.6\n",
      "genres ['Biography', 'Comedy', 'Drama']\n",
      "credit Akshay Kumar\n",
      "credit Radhika Apte\n",
      "credit Sonam Kapoor\n",
      "Short Naration:  Biography on Tamil Nadu activist Arunachalam Muruganantham, whose mission was to provide sanitary napkin's to poor women of rural areas. Who would use rag cloths or leaves during periods where use of sanitary napkins was rare. After he did not get fruitful results from his family and a medical college he approached, he decided to try it himself by making a uterus out of football bladder and filling goat's blood in it. He would roam around the whole day with the bladder, the aim was to check the absorption rate of the sanitary napkins made by him.\n"
     ]
    }
   ],
   "source": [
    "#rating \n",
    "print(\"Rating\",imdb.get_title_ratings(tt)['rating'])\n",
    "#generes\n",
    "print(\"genres\",imdb.get_title_genres(tt)['genres'])\n",
    "#top 3 credits\n",
    "for i in range(3):\n",
    "    print(\"credit\",imdb.get_title_credits('tt7218518')['credits']['cast'][i]['name'])\n",
    "# short narration          \n",
    "print(\"Short Narration: \",imdb.get_title_plot('tt7218518')['summaries'][0]['text'])"
   ]
  },
  {
   "cell_type": "code",
   "execution_count": null,
   "metadata": {},
   "outputs": [],
   "source": [
    "#to find directories inside folder\n",
    "import os\n",
    "mypath=\"F://naya filam//New Movies\"\n",
    "os.listdir(mypath)"
   ]
  },
  {
   "cell_type": "code",
   "execution_count": 45,
   "metadata": {},
   "outputs": [],
   "source": []
  },
  {
   "cell_type": "code",
   "execution_count": 46,
   "metadata": {},
   "outputs": [],
   "source": [
    "\n"
   ]
  },
  {
   "cell_type": "code",
   "execution_count": null,
   "metadata": {},
   "outputs": [],
   "source": [
    "\n"
   ]
  },
  {
   "cell_type": "code",
   "execution_count": null,
   "metadata": {},
   "outputs": [],
   "source": []
  },
  {
   "cell_type": "code",
   "execution_count": null,
   "metadata": {},
   "outputs": [],
   "source": []
  },
  {
   "cell_type": "code",
   "execution_count": null,
   "metadata": {},
   "outputs": [],
   "source": []
  },
  {
   "cell_type": "code",
   "execution_count": null,
   "metadata": {},
   "outputs": [],
   "source": []
  },
  {
   "cell_type": "code",
   "execution_count": null,
   "metadata": {},
   "outputs": [],
   "source": []
  },
  {
   "cell_type": "code",
   "execution_count": null,
   "metadata": {},
   "outputs": [],
   "source": []
  },
  {
   "cell_type": "code",
   "execution_count": 2,
   "metadata": {},
   "outputs": [],
   "source": []
  },
  {
   "cell_type": "code",
   "execution_count": 109,
   "metadata": {},
   "outputs": [
    {
     "data": {
      "text/plain": [
       "['A Dangerous Method (2011)',\n",
       " 'A Scanner Darkly (2006) [1080p]',\n",
       " 'A.Serbian.Film.2010.UNCUT.720p.BrRip.x264.AAC.5.1.{The Hated}.【ThumperDC】',\n",
       " 'A.Serious.Man.2009.720p.BluRay.x264.AAC-ETRG',\n",
       " 'American.Ultra.2015.HDRip.XViD-ETRG',\n",
       " 'And So It Goes (2014)',\n",
       " 'Angry Indian Goddesses.mp4',\n",
       " 'Ant.Man.2015.720p.HDRip.x264.AAC-ETRG',\n",
       " 'Batman V Superman Dawn Of Justice (2016) [YTS.AG]',\n",
       " 'Crazy.Bitches.2014.HDRip.XviD.AC3-EVO',\n",
       " 'Dope (2015)',\n",
       " 'Eternal.Sunshine.Of.The.Spotless.Mind.2004.720p.BRrip.x265.HEVC.10bit.PoOlLa.mkv',\n",
       " 'Exodus.Gods.and.Kings.2014.HDRip.XviD-SaM[ETRG]',\n",
       " 'Find.Me.Guilty[2006]DvDrip[Eng]-aXXo',\n",
       " 'Fish Tank LiMiTED DVD www.IWANNADOWNLOAD.com',\n",
       " 'From Dusk Till Dawn (1996)',\n",
       " 'I Heart Huckabees',\n",
       " 'Interstellar (2014)',\n",
       " 'JFK (1991)',\n",
       " 'Kidnapping.Mr.Heineken.2015.HDRip.XViD-juggs[ETRG]',\n",
       " 'Moon (2009) [1080p]',\n",
       " 'Mr.Nobody (2009) EXTENDED 720p BRRiP x264 AAC [Team Nanban]',\n",
       " 'Patriots Day (2016) [YTS.AG]',\n",
       " 'Pi.1998.BDRip.1080p.2ch.x265.[S-Less].mkv',\n",
       " 'Requiem For a Dream',\n",
       " 'Samsara.2011.DOCU.BRRip.XviD.MP3-RARBG',\n",
       " 'Spectre (2015) [YTS.AG]',\n",
       " 'Spring, Summer, Fall, Winter... and Spring (2003) 720p BRrip.sujaidr (pimprg)',\n",
       " 'Steve.Jobs.2015.DVDScr.XVID.AC3.HQ.Hive-CM8',\n",
       " \"The Devil's Advocate [1997]\",\n",
       " 'The Equalizer (2014) [1080p]',\n",
       " 'The Lazarus Effect (2015)',\n",
       " 'The Lion King (1994)',\n",
       " 'The Man From the Earth (2007)',\n",
       " 'The Tree of Life (2011)',\n",
       " 'The.Hateful.Eight.2015.DVDScr.XVID.AC3.HQ.Hive-CM8',\n",
       " 'The.Martian.2015.HDRip.XviD-ETRG',\n",
       " 'We.Still.Kill.The.Old.Way.2014.HDRip.XViD-juggs[ETRG]',\n",
       " '[AgusiQ-Torrents.pl] Coherence.2013.NAPISY PL-OzW [AgusiQ]']"
      ]
     },
     "execution_count": 109,
     "metadata": {},
     "output_type": "execute_result"
    }
   ],
   "source": []
  },
  {
   "cell_type": "code",
   "execution_count": null,
   "metadata": {},
   "outputs": [],
   "source": []
  }
 ],
 "metadata": {
  "kernelspec": {
   "display_name": "Python 3",
   "language": "python",
   "name": "python3"
  },
  "language_info": {
   "codemirror_mode": {
    "name": "ipython",
    "version": 3
   },
   "file_extension": ".py",
   "mimetype": "text/x-python",
   "name": "python",
   "nbconvert_exporter": "python",
   "pygments_lexer": "ipython3",
   "version": "3.5.2"
  }
 },
 "nbformat": 4,
 "nbformat_minor": 2
}
