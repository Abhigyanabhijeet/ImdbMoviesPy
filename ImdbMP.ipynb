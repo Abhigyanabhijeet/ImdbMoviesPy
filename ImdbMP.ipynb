{
 "cells": [
  {
   "cell_type": "code",
   "execution_count": 3,
   "metadata": {},
   "outputs": [],
   "source": [
    "# Import the imdb package.\n",
    "import imdb as imdb1\n",
    "\n",
    "from imdbpie import Imdb\n",
    "imdb = Imdb()\n",
    "\n",
    "# Create the object that will be used to access the IMDb's database.\n",
    "ia = imdb1.IMDb() # by default access the web.\n",
    "\n"
   ]
  },
  {
   "cell_type": "code",
   "execution_count": null,
   "metadata": {},
   "outputs": [],
   "source": [
    "# Search for a movie (get a list of Movie objects).\n",
    "s_result = ia.search_movie('The.Martian')\n",
    "\n",
    "# Print the long imdb canonical title and movieID of the results.\n",
    "for item in s_result:\n",
    "   print(item['long imdb canonical title'], item.movieID)\n",
    "#select title\n",
    "select=input()"
   ]
  },
  {
   "cell_type": "code",
   "execution_count": 90,
   "metadata": {},
   "outputs": [],
   "source": [
    "#title number (index 0)\n",
    "tt=\"tt\"+str(s_result[int(select)].movieID)"
   ]
  },
  {
   "cell_type": "code",
   "execution_count": 98,
   "metadata": {},
   "outputs": [
    {
     "name": "stdout",
     "output_type": "stream",
     "text": [
      "Rating 8.6\n",
      "genres ['Biography', 'Comedy', 'Drama']\n",
      "credit Akshay Kumar\n",
      "credit Radhika Apte\n",
      "credit Sonam Kapoor\n",
      "Short Naration:  Biography on Tamil Nadu activist Arunachalam Muruganantham, whose mission was to provide sanitary napkin's to poor women of rural areas. Who would use rag cloths or leaves during periods where use of sanitary napkins was rare. After he did not get fruitful results from his family and a medical college he approached, he decided to try it himself by making a uterus out of football bladder and filling goat's blood in it. He would roam around the whole day with the bladder, the aim was to check the absorption rate of the sanitary napkins made by him.\n"
     ]
    }
   ],
   "source": [
    "#rating \n",
    "print(\"Rating\",imdb.get_title_ratings(tt)['rating'])\n",
    "#generes\n",
    "print(\"genres\",imdb.get_title_genres(tt)['genres'])\n",
    "#top 3 credits\n",
    "for i in range(3):\n",
    "    print(\"credit\",imdb.get_title_credits('tt7218518')['credits']['cast'][i]['name'])\n",
    "# short narration          \n",
    "print(\"Short Narration: \",imdb.get_title_plot('tt7218518')['summaries'][0]['text'])"
   ]
  },
  {
   "cell_type": "code",
   "execution_count": null,
   "metadata": {},
   "outputs": [],
   "source": [
    "#to find directories inside folder\n",
    "import os\n",
    "mypath=\"F://naya filam//New Movies\"\n",
    "os.listdir(mypath)"
   ]
  }
 ],
 "metadata": {
  "kernelspec": {
   "display_name": "Python 3",
   "language": "python",
   "name": "python3"
  },
  "language_info": {
   "codemirror_mode": {
    "name": "ipython",
    "version": 3
   },
   "file_extension": ".py",
   "mimetype": "text/x-python",
   "name": "python",
   "nbconvert_exporter": "python",
   "pygments_lexer": "ipython3",
   "version": "3.5.2"
  }
 },
 "nbformat": 4,
 "nbformat_minor": 2
}
